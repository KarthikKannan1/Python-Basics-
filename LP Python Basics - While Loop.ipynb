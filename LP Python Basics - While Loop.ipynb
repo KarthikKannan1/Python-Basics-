{
 "cells": [
  {
   "cell_type": "code",
   "execution_count": 1,
   "id": "4c5ab3f0",
   "metadata": {},
   "outputs": [
    {
     "name": "stdout",
     "output_type": "stream",
     "text": [
      "number is currently:  0 \n",
      "number is still less than 10, adding 1 to number\n",
      "\n",
      "number is currently:  1 \n",
      "number is still less than 10, adding 1 to number\n",
      "\n",
      "number is currently:  2 \n",
      "number is still less than 10, adding 1 to number\n",
      "\n",
      "number is currently:  3 \n",
      "number is still less than 10, adding 1 to number\n",
      "\n",
      "number is currently:  4 \n",
      "number is still less than 10, adding 1 to number\n",
      "\n",
      "number is currently:  5 \n",
      "number is still less than 10, adding 1 to number\n",
      "\n",
      "number is currently:  6 \n",
      "number is still less than 10, adding 1 to number\n",
      "\n",
      "number is currently:  7 \n",
      "number is still less than 10, adding 1 to number\n",
      "\n",
      "number is currently:  8 \n",
      "number is still less than 10, adding 1 to number\n",
      "\n",
      "number is currently:  9 \n",
      "number is still less than 10, adding 1 to number\n",
      "\n"
     ]
    }
   ],
   "source": [
    "number = 0\n",
    "\n",
    "while number < 10:\n",
    "    print(\"number is currently: \", number, \"\\nnumber is still less than 10, adding 1 to number\\n\")\n",
    "    number += 1"
   ]
  },
  {
   "cell_type": "code",
   "execution_count": 2,
   "id": "30e84889",
   "metadata": {},
   "outputs": [
    {
     "name": "stdout",
     "output_type": "stream",
     "text": [
      "number is currently:  0 \n",
      "number is still less than 10, adding 1 to number\n",
      "\n",
      "number is currently:  1 \n",
      "number is still less than 10, adding 1 to number\n",
      "\n",
      "number is currently:  2 \n",
      "number is still less than 10, adding 1 to number\n",
      "\n",
      "number is currently:  3 \n",
      "number is still less than 10, adding 1 to number\n",
      "\n",
      "number is currently:  4 \n",
      "number is still less than 10, adding 1 to number\n",
      "\n",
      "number is currently:  5 \n",
      "number is still less than 10, adding 1 to number\n",
      "\n",
      "number is currently:  6 \n",
      "number is still less than 10, adding 1 to number\n",
      "\n",
      "number is currently:  7 \n",
      "number is still less than 10, adding 1 to number\n",
      "\n",
      "number is currently:  8 \n",
      "number is still less than 10, adding 1 to number\n",
      "\n",
      "number is currently:  9 \n",
      "number is still less than 10, adding 1 to number\n",
      "\n",
      "\n",
      "All Done!\n"
     ]
    }
   ],
   "source": [
    "number = 0\n",
    "\n",
    "while number < 10:\n",
    "    print(\"number is currently: \", number, \"\\nnumber is still less than 10, adding 1 to number\\n\")\n",
    "    number += 1\n",
    "    \n",
    "else:\n",
    "    print('\\nAll Done!')"
   ]
  },
  {
   "cell_type": "code",
   "execution_count": 3,
   "id": "a0544589",
   "metadata": {},
   "outputs": [
    {
     "name": "stdout",
     "output_type": "stream",
     "text": [
      "number is currently:  0 \n",
      "number is still less than 10, adding 1 to number\n",
      "\n",
      "continuing...\n",
      "\n",
      "number is currently:  1 \n",
      "number is still less than 10, adding 1 to number\n",
      "\n",
      "continuing...\n",
      "\n",
      "number is currently:  2 \n",
      "number is still less than 10, adding 1 to number\n",
      "\n",
      "Alert: number is divisible by 3\n",
      "number is currently:  3 \n",
      "number is still less than 10, adding 1 to number\n",
      "\n",
      "continuing...\n",
      "\n",
      "number is currently:  4 \n",
      "number is still less than 10, adding 1 to number\n",
      "\n",
      "continuing...\n",
      "\n",
      "number is currently:  5 \n",
      "number is still less than 10, adding 1 to number\n",
      "\n",
      "Alert: number is divisible by 3\n",
      "number is currently:  6 \n",
      "number is still less than 10, adding 1 to number\n",
      "\n",
      "continuing...\n",
      "\n",
      "number is currently:  7 \n",
      "number is still less than 10, adding 1 to number\n",
      "\n",
      "continuing...\n",
      "\n",
      "number is currently:  8 \n",
      "number is still less than 10, adding 1 to number\n",
      "\n",
      "Alert: number is divisible by 3\n",
      "number is currently:  9 \n",
      "number is still less than 10, adding 1 to number\n",
      "\n",
      "continuing...\n",
      "\n"
     ]
    }
   ],
   "source": [
    "number = 0\n",
    "\n",
    "while number < 10:\n",
    "    print(\"number is currently: \", number, \"\\nnumber is still less than 10, adding 1 to number\\n\")\n",
    "    number += 1\n",
    "    \n",
    "    #improvised a lil'\n",
    "    if number % 3 == 0:\n",
    "        print(\"Alert: number is divisible by 3\")\n",
    "    else:\n",
    "        print(\"continuing...\\n\")\n",
    "        continue"
   ]
  },
  {
   "cell_type": "code",
   "execution_count": 4,
   "id": "ade506d9",
   "metadata": {},
   "outputs": [
    {
     "name": "stdout",
     "output_type": "stream",
     "text": [
      "number is currently:  0 \n",
      "number is still less than 10, adding 1 to number\n",
      "\n",
      "continuing...\n",
      "\n",
      "number is currently:  1 \n",
      "number is still less than 10, adding 1 to number\n",
      "\n",
      "continuing...\n",
      "\n",
      "number is currently:  2 \n",
      "number is still less than 10, adding 1 to number\n",
      "\n",
      "Alert: loop is being terminted as number is divisible by 3 and 'break'statement is being used\n"
     ]
    }
   ],
   "source": [
    "number = 0\n",
    "\n",
    "while number < 10:\n",
    "    print(\"number is currently: \", number, \"\\nnumber is still less than 10, adding 1 to number\\n\")\n",
    "    number += 1\n",
    "    \n",
    "    #improvised a lil'\n",
    "    if number % 3 == 0:\n",
    "        print(\"Alert: loop is being terminted as number is divisible by 3 and 'break'statement is being used\")\n",
    "        break\n",
    "    else:\n",
    "        print(\"continuing...\\n\")\n",
    "        continue"
   ]
  },
  {
   "cell_type": "code",
   "execution_count": 2,
   "id": "e737891d",
   "metadata": {},
   "outputs": [],
   "source": [
    "# Ran this code and got to read the sad truth again and again which I enjoyed \n",
    "#while True:\n",
    "    #print(\"My cs/min is 5 and it's not improving, :(\")"
   ]
  }
 ],
 "metadata": {
  "kernelspec": {
   "display_name": "Python 3",
   "language": "python",
   "name": "python3"
  },
  "language_info": {
   "codemirror_mode": {
    "name": "ipython",
    "version": 3
   },
   "file_extension": ".py",
   "mimetype": "text/x-python",
   "name": "python",
   "nbconvert_exporter": "python",
   "pygments_lexer": "ipython3",
   "version": "3.9.1"
  }
 },
 "nbformat": 4,
 "nbformat_minor": 5
}
