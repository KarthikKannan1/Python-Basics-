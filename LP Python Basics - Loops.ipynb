{
 "cells": [
  {
   "cell_type": "code",
   "execution_count": 1,
   "id": "4ffcf53f",
   "metadata": {},
   "outputs": [],
   "source": [
    "my_list = [1,2,3,4,5,6,7,8,9,10]"
   ]
  },
  {
   "cell_type": "code",
   "execution_count": 2,
   "id": "978e7110",
   "metadata": {},
   "outputs": [
    {
     "name": "stdout",
     "output_type": "stream",
     "text": [
      "1\n",
      "2\n",
      "3\n",
      "4\n",
      "5\n",
      "6\n",
      "7\n",
      "8\n",
      "9\n",
      "10\n"
     ]
    }
   ],
   "source": [
    "for i in my_list:\n",
    "    print (i)"
   ]
  },
  {
   "cell_type": "code",
   "execution_count": 3,
   "id": "e217d6a8",
   "metadata": {},
   "outputs": [
    {
     "name": "stdout",
     "output_type": "stream",
     "text": [
      "2\n",
      "1\n",
      "0.5\n"
     ]
    }
   ],
   "source": [
    "print(17 % 5)\n",
    "print(4 % 3)\n",
    "print(14.5 % 7) # Also returns decimal valus and was trying to sun these calculations in one cell."
   ]
  },
  {
   "cell_type": "code",
   "execution_count": 4,
   "id": "c623afd3",
   "metadata": {},
   "outputs": [
    {
     "name": "stdout",
     "output_type": "stream",
     "text": [
      "2\n",
      "4\n",
      "6\n",
      "8\n",
      "10\n"
     ]
    }
   ],
   "source": [
    "for i in my_list:\n",
    "    if i % 2 == 0:\n",
    "        print (i)"
   ]
  },
  {
   "cell_type": "code",
   "execution_count": 5,
   "id": "9e096519",
   "metadata": {},
   "outputs": [
    {
     "name": "stdout",
     "output_type": "stream",
     "text": [
      "Contained an odd number\n",
      "2\n",
      "Contained an odd number\n",
      "4\n",
      "Contained an odd number\n",
      "6\n",
      "Contained an odd number\n",
      "8\n",
      "Contained an odd number\n",
      "10\n"
     ]
    }
   ],
   "source": [
    "for i in my_list:\n",
    "    if i % 2 == 0:\n",
    "        print(i)\n",
    "    else:\n",
    "        print(\"Contained an odd number\")"
   ]
  },
  {
   "cell_type": "code",
   "execution_count": 6,
   "id": "fde26a51",
   "metadata": {},
   "outputs": [
    {
     "name": "stdout",
     "output_type": "stream",
     "text": [
      "55\n"
     ]
    }
   ],
   "source": [
    "list_sum = 0\n",
    "\n",
    "for i in my_list:\n",
    "    list_sum += i\n",
    "\n",
    "print (list_sum)"
   ]
  },
  {
   "cell_type": "code",
   "execution_count": 7,
   "id": "91ed6d17",
   "metadata": {},
   "outputs": [
    {
     "name": "stdout",
     "output_type": "stream",
     "text": [
      "I\n",
      "'\n",
      "m\n",
      " \n",
      "a\n",
      " \n",
      "S\n",
      "-\n",
      "t\n",
      "i\n",
      "e\n",
      "r\n",
      " \n",
      "S\n",
      "o\n",
      "v\n",
      "a\n",
      " \n",
      "a\n",
      "n\n",
      "d\n",
      " \n",
      "E\n",
      "z\n",
      "r\n",
      "e\n",
      "a\n",
      "l\n",
      " \n",
      "m\n",
      "a\n",
      "i\n",
      "n\n",
      ",\n",
      " \n",
      "b\n",
      "e\n",
      "w\n",
      "a\n",
      "r\n",
      "e\n",
      "!\n"
     ]
    }
   ],
   "source": [
    "for i in \"I'm a S-tier Sova and Ezreal main, beware!\":\n",
    "    print(i)"
   ]
  },
  {
   "cell_type": "code",
   "execution_count": 8,
   "id": "c66ec3c3",
   "metadata": {},
   "outputs": [
    {
     "name": "stdout",
     "output_type": "stream",
     "text": [
      "1\n",
      "2\n",
      "3\n",
      "4\n",
      "5\n"
     ]
    }
   ],
   "source": [
    "my_tupple = (5,4,3,2,1)\n",
    "\n",
    "for i in my_tupple[::-1]:\n",
    "    print(i)"
   ]
  },
  {
   "cell_type": "code",
   "execution_count": 9,
   "id": "830ac5cd",
   "metadata": {},
   "outputs": [],
   "source": [
    "my_second_list = [(2,4),(6,8),(10,12)]"
   ]
  },
  {
   "cell_type": "code",
   "execution_count": 10,
   "id": "a8535a2b",
   "metadata": {},
   "outputs": [
    {
     "name": "stdout",
     "output_type": "stream",
     "text": [
      "(2, 4)\n",
      "(6, 8)\n",
      "(10, 12)\n"
     ]
    }
   ],
   "source": [
    "for i in my_second_list:\n",
    "    print(i)"
   ]
  },
  {
   "cell_type": "code",
   "execution_count": 11,
   "id": "331bd341",
   "metadata": {},
   "outputs": [
    {
     "name": "stdout",
     "output_type": "stream",
     "text": [
      "2\n",
      "6\n",
      "10\n"
     ]
    }
   ],
   "source": [
    "for (i,j) in my_second_list:\n",
    "    print(i)                            #here only the elements in first column will be printed"
   ]
  },
  {
   "cell_type": "code",
   "execution_count": 12,
   "id": "0d4a8290",
   "metadata": {},
   "outputs": [],
   "source": [
    "my_dict = {'Agent1':'Sova','Agent2':'Killjoy','Agent3':'Raze'}"
   ]
  },
  {
   "cell_type": "code",
   "execution_count": 13,
   "id": "6b8926b8",
   "metadata": {},
   "outputs": [
    {
     "name": "stdout",
     "output_type": "stream",
     "text": [
      "Agent1\n",
      "Agent2\n",
      "Agent3\n"
     ]
    }
   ],
   "source": [
    "for i in my_dict:\n",
    "    print(i)"
   ]
  },
  {
   "cell_type": "code",
   "execution_count": 14,
   "id": "aa6669f0",
   "metadata": {},
   "outputs": [
    {
     "data": {
      "text/plain": [
       "dict_items([('Agent1', 'Sova'), ('Agent2', 'Killjoy'), ('Agent3', 'Raze')])"
      ]
     },
     "execution_count": 14,
     "metadata": {},
     "output_type": "execute_result"
    }
   ],
   "source": [
    "#Creating a dictionary view object\n",
    "my_dict.items()"
   ]
  },
  {
   "cell_type": "code",
   "execution_count": 15,
   "id": "052b2bf6",
   "metadata": {},
   "outputs": [
    {
     "name": "stdout",
     "output_type": "stream",
     "text": [
      "Agent1\n",
      "Sova\n",
      "Agent2\n",
      "Killjoy\n",
      "Agent3\n",
      "Raze\n"
     ]
    }
   ],
   "source": [
    "for i,j in my_dict.items():\n",
    "    print(i)\n",
    "    print(j) "
   ]
  },
  {
   "cell_type": "code",
   "execution_count": 16,
   "id": "a0789274",
   "metadata": {},
   "outputs": [
    {
     "data": {
      "text/plain": [
       "['Agent1', 'Agent2', 'Agent3']"
      ]
     },
     "execution_count": 16,
     "metadata": {},
     "output_type": "execute_result"
    }
   ],
   "source": [
    "list(my_dict.keys())"
   ]
  },
  {
   "cell_type": "code",
   "execution_count": 17,
   "id": "8fb4b4e4",
   "metadata": {},
   "outputs": [
    {
     "data": {
      "text/plain": [
       "['Killjoy', 'Raze', 'Sova']"
      ]
     },
     "execution_count": 17,
     "metadata": {},
     "output_type": "execute_result"
    }
   ],
   "source": [
    "sorted(my_dict.values())"
   ]
  },
  {
   "cell_type": "code",
   "execution_count": 23,
   "id": "98a01e41",
   "metadata": {},
   "outputs": [
    {
     "name": "stdout",
     "output_type": "stream",
     "text": [
      "Please enter the number of iterations: 5\n",
      "1\n",
      "1 2\n",
      "1 2 3\n",
      "1 2 3 4\n",
      "1 2 3 4 5\n"
     ]
    }
   ],
   "source": [
    "for i in range(1,int(input(\"Please enter the number of iterations: \"))+1):\n",
    "    for j in range(1, i+1): \n",
    "        print(j) if j == i else print(j, end =\" \")"
   ]
  },
  {
   "cell_type": "code",
   "execution_count": 29,
   "id": "1eec7388",
   "metadata": {},
   "outputs": [
    {
     "name": "stdout",
     "output_type": "stream",
     "text": [
      "Enter the number of iterations: 5\n",
      "5 4 3 2 1 \n",
      "4 3 2 1 \n",
      "3 2 1 \n",
      "2 1 \n",
      "1 \n"
     ]
    }
   ],
   "source": [
    "i = int(input(\"Enter the number of iterations: \"))\n",
    "while (i > 0):\n",
    "    j = i\n",
    "    while (j > 0):\n",
    "        print(j, end = \" \")\n",
    "        j -= 1\n",
    "    print()\n",
    "    i -= 1"
   ]
  },
  {
   "cell_type": "code",
   "execution_count": null,
   "id": "c497d54d",
   "metadata": {},
   "outputs": [],
   "source": []
  }
 ],
 "metadata": {
  "kernelspec": {
   "display_name": "Python 3",
   "language": "python",
   "name": "python3"
  },
  "language_info": {
   "codemirror_mode": {
    "name": "ipython",
    "version": 3
   },
   "file_extension": ".py",
   "mimetype": "text/x-python",
   "name": "python",
   "nbconvert_exporter": "python",
   "pygments_lexer": "ipython3",
   "version": "3.9.1"
  }
 },
 "nbformat": 4,
 "nbformat_minor": 5
}
