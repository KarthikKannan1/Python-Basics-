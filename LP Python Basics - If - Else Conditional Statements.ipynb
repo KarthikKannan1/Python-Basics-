{
 "cells": [
  {
   "cell_type": "code",
   "execution_count": 1,
   "id": "27cbde5d",
   "metadata": {},
   "outputs": [
    {
     "name": "stdout",
     "output_type": "stream",
     "text": [
      "Oh it's true, it's damn true!!\n"
     ]
    }
   ],
   "source": [
    "if True:\n",
    "    print(\"Oh it's true, it's damn true!!\")"
   ]
  },
  {
   "cell_type": "code",
   "execution_count": 2,
   "id": "a5340c65",
   "metadata": {},
   "outputs": [
    {
     "name": "stdout",
     "output_type": "stream",
     "text": [
      "This is being printed here as Check is false and its value is not altered\n"
     ]
    }
   ],
   "source": [
    "Check = False\n",
    "\n",
    "if Check:\n",
    "    print(\"Check's true!!\")\n",
    "else:\n",
    "    print(\"This is being printed here as Check is false and its value is not altered\")"
   ]
  },
  {
   "cell_type": "code",
   "execution_count": 5,
   "id": "b46e745d",
   "metadata": {},
   "outputs": [
    {
     "name": "stdout",
     "output_type": "stream",
     "text": [
      "Press F5, I'm done with this match. GG FF\n"
     ]
    }
   ],
   "source": [
    "location = 'Spawn'\n",
    "\n",
    "if location == 'A Site':\n",
    "    print(\"Plant the bomb and camp at cubby!!\")\n",
    "elif location == 'Cubby':\n",
    "    print(\"Plant the bomb, noob camper!!\")\n",
    "else:\n",
    "    print(\"Press F5, I'm done with this match. GG FF\")"
   ]
  },
  {
   "cell_type": "code",
   "execution_count": 8,
   "id": "bca8cb2c",
   "metadata": {},
   "outputs": [
    {
     "name": "stdout",
     "output_type": "stream",
     "text": [
      "Dodge this game please.\n"
     ]
    }
   ],
   "source": [
    "Map = 'Icebox'\n",
    "\n",
    "if Map == 'Icebox':\n",
    "    print(\"Dodge this game please.\")\n",
    "else:\n",
    "    print(\"Lets clap them, EZ!!\")"
   ]
  },
  {
   "cell_type": "code",
   "execution_count": 13,
   "id": "8ef08065",
   "metadata": {},
   "outputs": [
    {
     "name": "stdout",
     "output_type": "stream",
     "text": [
      "Ah, it's King Sova our savior please clutch.\n"
     ]
    }
   ],
   "source": [
    "Agent = 'Sova'\n",
    "\n",
    "if (Agent == 'Astra') or (Agent == 'Viper'):\n",
    "    print(\"I see nerfs coming your way.\")\n",
    "elif (Agent == 'Yoru') or (Agent == 'Skye'):\n",
    "    print(\"You flash me one more time and I'll report you.\")\n",
    "elif Agent == 'Jett':\n",
    "    print(\"Revive me Jett!!\")\n",
    "else:\n",
    "    print(\"Ah, it's King Sova our savior please clutch.\")"
   ]
  }
 ],
 "metadata": {
  "kernelspec": {
   "display_name": "Python 3",
   "language": "python",
   "name": "python3"
  },
  "language_info": {
   "codemirror_mode": {
    "name": "ipython",
    "version": 3
   },
   "file_extension": ".py",
   "mimetype": "text/x-python",
   "name": "python",
   "nbconvert_exporter": "python",
   "pygments_lexer": "ipython3",
   "version": "3.9.1"
  }
 },
 "nbformat": 4,
 "nbformat_minor": 5
}
