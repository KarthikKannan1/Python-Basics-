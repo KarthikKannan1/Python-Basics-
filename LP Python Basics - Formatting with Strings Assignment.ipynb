{
 "cells": [
  {
   "cell_type": "code",
   "execution_count": 1,
   "id": "8eadbcae",
   "metadata": {},
   "outputs": [
    {
     "name": "stdout",
     "output_type": "stream",
     "text": [
      "I'm going to inject name of Ichigo here.\n"
     ]
    }
   ],
   "source": [
    "print(\"I'm going to inject name of %s here.\" %'Ichigo')"
   ]
  },
  {
   "cell_type": "code",
   "execution_count": 2,
   "id": "fc67bd1e",
   "metadata": {},
   "outputs": [
    {
     "name": "stdout",
     "output_type": "stream",
     "text": [
      "I'm going to inject some text here, and more text here.\n"
     ]
    }
   ],
   "source": [
    "print(\"I'm going to inject %s text here, and %s text here.\" %('some','more'))"
   ]
  },
  {
   "cell_type": "code",
   "execution_count": 3,
   "id": "8eda55a4",
   "metadata": {},
   "outputs": [
    {
     "name": "stdout",
     "output_type": "stream",
     "text": [
      "I'm going to inject some text here, and more text here.\n"
     ]
    }
   ],
   "source": [
    "x , y = 'some' , 'more'\n",
    "print (\"I'm going to inject %s text here, and %s text here.\"%(x,y))"
   ]
  },
  {
   "cell_type": "code",
   "execution_count": 6,
   "id": "49eec988",
   "metadata": {},
   "outputs": [
    {
     "name": "stdout",
     "output_type": "stream",
     "text": [
      "He said his name was Chad.\n",
      "She said her name was 'Rukia'.\n"
     ]
    }
   ],
   "source": [
    "print('He said his name was %s.' %'Chad')\n",
    "print('She said her name was %r.'%'Rukia')"
   ]
  },
  {
   "cell_type": "code",
   "execution_count": 7,
   "id": "6831d88f",
   "metadata": {},
   "outputs": [
    {
     "name": "stdout",
     "output_type": "stream",
     "text": [
      "I once caught a fish this \tbig.\n",
      "I once caught a fish 'this  big'.\n"
     ]
    }
   ],
   "source": [
    "print('I once caught a fish %s.' %'this \\tbig')\n",
    "print('I once caught a fish %r.' %'this  big')"
   ]
  },
  {
   "cell_type": "code",
   "execution_count": 8,
   "id": "ceaab14c",
   "metadata": {},
   "outputs": [
    {
     "name": "stdout",
     "output_type": "stream",
     "text": [
      "I wrote 3.75 programs today.\n",
      "I wrote 3 programs today.\n"
     ]
    }
   ],
   "source": [
    "print('I wrote %s programs today.' %3.75)\n",
    "print('I wrote %d programs today.' %3.75)"
   ]
  },
  {
   "cell_type": "code",
   "execution_count": 9,
   "id": "6703a4a4",
   "metadata": {},
   "outputs": [
    {
     "name": "stdout",
     "output_type": "stream",
     "text": [
      "Floating point numbers:  13.14\n"
     ]
    }
   ],
   "source": [
    "print('Floating point numbers: %6.2f' %(13.144))"
   ]
  },
  {
   "cell_type": "code",
   "execution_count": 10,
   "id": "7805cb97",
   "metadata": {},
   "outputs": [
    {
     "name": "stdout",
     "output_type": "stream",
     "text": [
      "Floating point numbers: 13.144\n"
     ]
    }
   ],
   "source": [
    "print('Floating point numbers: %1.3f' %(13.144))"
   ]
  },
  {
   "cell_type": "code",
   "execution_count": 11,
   "id": "590a0d13",
   "metadata": {},
   "outputs": [
    {
     "name": "stdout",
     "output_type": "stream",
     "text": [
      "Floating point numbers: 13.14400\n"
     ]
    }
   ],
   "source": [
    "print('Floating point numbers: %1.5f' %(13.144))"
   ]
  },
  {
   "cell_type": "code",
   "execution_count": 12,
   "id": "5b50e4a0",
   "metadata": {},
   "outputs": [
    {
     "name": "stdout",
     "output_type": "stream",
     "text": [
      "Floating point numbers:      13.14\n"
     ]
    }
   ],
   "source": [
    "print('Floating point numbers: %10.2f' %(13.144))"
   ]
  },
  {
   "cell_type": "code",
   "execution_count": 13,
   "id": "b38a0259",
   "metadata": {},
   "outputs": [
    {
     "name": "stdout",
     "output_type": "stream",
     "text": [
      "Floating point numbers:                     13.14\n"
     ]
    }
   ],
   "source": [
    "print('Floating point numbers: %25.2f' %(13.144))"
   ]
  },
  {
   "cell_type": "code",
   "execution_count": 15,
   "id": "36b612e6",
   "metadata": {},
   "outputs": [
    {
     "name": "stdout",
     "output_type": "stream",
     "text": [
      "First: Konichiwa, Second:  3.14, Third: 'sayonara'\n"
     ]
    }
   ],
   "source": [
    "print('First: %s, Second: %5.2f, Third: %r' %('Konichiwa',3.1415,'sayonara'))"
   ]
  },
  {
   "cell_type": "code",
   "execution_count": 16,
   "id": "dc312c2f",
   "metadata": {},
   "outputs": [
    {
     "name": "stdout",
     "output_type": "stream",
     "text": [
      "This is a string with an insert\n"
     ]
    }
   ],
   "source": [
    "print('This is a string with an {}'.format('insert'))"
   ]
  },
  {
   "cell_type": "code",
   "execution_count": 17,
   "id": "449c16bd",
   "metadata": {},
   "outputs": [
    {
     "name": "stdout",
     "output_type": "stream",
     "text": [
      "The quick brown fox\n"
     ]
    }
   ],
   "source": [
    "print('The {2} {1} {0}'.format('fox','brown','quick'))"
   ]
  },
  {
   "cell_type": "code",
   "execution_count": 18,
   "id": "a0c81a38",
   "metadata": {},
   "outputs": [
    {
     "name": "stdout",
     "output_type": "stream",
     "text": [
      "First object: 1, Second object: two, Third object: 12.3\n"
     ]
    }
   ],
   "source": [
    "print('First object: {a}, Second object: {b}, Third object: {c}'.format(a=1, b='two', c=12.3))"
   ]
  },
  {
   "cell_type": "code",
   "execution_count": 19,
   "id": "dd397db0",
   "metadata": {},
   "outputs": [
    {
     "name": "stdout",
     "output_type": "stream",
     "text": [
      "A rupee saved is a rupee earned\n",
      "A rupee saved is a rupee earned\n"
     ]
    }
   ],
   "source": [
    "print('A %s saved is a %s earned' %('rupee','rupee'))\n",
    "#vs\n",
    "print('A {p} saved is a {p} earned' .format(p='rupee'))"
   ]
  },
  {
   "cell_type": "code",
   "execution_count": 20,
   "id": "b883050f",
   "metadata": {},
   "outputs": [
    {
     "name": "stdout",
     "output_type": "stream",
     "text": [
      "Fruit    | Quality  \n",
      "Apples   |       3.0\n",
      "Oranges  |        10\n"
     ]
    }
   ],
   "source": [
    "print('{0:8} | {1:9}'.format('Fruit', 'Quality'))\n",
    "print('{0:8} | {1:9}'.format('Apples', 3.))\n",
    "print('{0:8} | {1:9}'.format('Oranges', 10))"
   ]
  },
  {
   "cell_type": "code",
   "execution_count": 21,
   "id": "ce136237",
   "metadata": {},
   "outputs": [
    {
     "name": "stdout",
     "output_type": "stream",
     "text": [
      "Left     |  Center  |    Right\n",
      "11       |    22    |       33\n"
     ]
    }
   ],
   "source": [
    "print('{0:<8} | {1:^8} | {2:>8}'.format('Left','Center','Right'))\n",
    "print('{0:<8} | {1:^8} | {2:>8}'.format(11,22,33))"
   ]
  },
  {
   "cell_type": "code",
   "execution_count": 22,
   "id": "7c0fa507",
   "metadata": {},
   "outputs": [
    {
     "name": "stdout",
     "output_type": "stream",
     "text": [
      "Left==== | -Center- | ...Right\n",
      "11====== | ---22--- | ......33\n"
     ]
    }
   ],
   "source": [
    "print('{0:=<8} | {1:-^8} | {2:.>8}'.format('Left','Center','Right'))\n",
    "print('{0:=<8} | {1:-^8} | {2:.>8}'.format(11,22,33))"
   ]
  },
  {
   "cell_type": "code",
   "execution_count": 23,
   "id": "91b13662",
   "metadata": {},
   "outputs": [
    {
     "name": "stdout",
     "output_type": "stream",
     "text": [
      "This is my ten character, two-decimal number:      13.58\n",
      "This is my ten character, two-decimal number:      13.58\n"
     ]
    }
   ],
   "source": [
    "print('This is my ten character, two-decimal number: %10.2f' %13.579)\n",
    "#vs\n",
    "print('This is my ten character, two-decimal number: {0:10.2f}'.format(13.579))"
   ]
  },
  {
   "cell_type": "code",
   "execution_count": 24,
   "id": "211f9617",
   "metadata": {},
   "outputs": [
    {
     "name": "stdout",
     "output_type": "stream",
     "text": [
      "He said his name is Kurasaki.\n"
     ]
    }
   ],
   "source": [
    "name = 'Kurasaki'\n",
    "\n",
    "print(f\"He said his name is {name}.\")"
   ]
  },
  {
   "cell_type": "code",
   "execution_count": 26,
   "id": "499efee8",
   "metadata": {},
   "outputs": [
    {
     "name": "stdout",
     "output_type": "stream",
     "text": [
      "My 10 character, four decimal number is:    23.3457\n",
      "My 10 character, four decimal number is:    23.3457\n"
     ]
    }
   ],
   "source": [
    "num = 23.345678\n",
    "print(\"My 10 character, four decimal number is: {0:10.4f}\".format(num))\n",
    "print(f\"My 10 character, four decimal number is: {num:{10}.{6}}\")"
   ]
  },
  {
   "cell_type": "code",
   "execution_count": 28,
   "id": "de7e8c81",
   "metadata": {},
   "outputs": [
    {
     "name": "stdout",
     "output_type": "stream",
     "text": [
      "My 10 character, four decimal number is:    23.4500\n",
      "My 10 character, four decimal number is:      23.45\n"
     ]
    }
   ],
   "source": [
    "num = 23.45\n",
    "print(\"My 10 character, four decimal number is: {0:10.4f}\".format(num))\n",
    "print(f\"My 10 character, four decimal number is: {num:{10}.{6}}\")"
   ]
  },
  {
   "cell_type": "code",
   "execution_count": 29,
   "id": "7d9c6bdb",
   "metadata": {},
   "outputs": [
    {
     "name": "stdout",
     "output_type": "stream",
     "text": [
      "My 10 character, four decimal number is:   23.4500\n",
      "My 10 character, four decimal number is:   23.4500\n"
     ]
    }
   ],
   "source": [
    "num = 23.45\n",
    "print(\"My 10 character, four decimal number is:{0:10.4f}\".format(num))\n",
    "print(f\"My 10 character, four decimal number is:{num:10.4f}\")"
   ]
  },
  {
   "cell_type": "code",
   "execution_count": null,
   "id": "fd544d76",
   "metadata": {},
   "outputs": [],
   "source": []
  }
 ],
 "metadata": {
  "kernelspec": {
   "display_name": "Python 3",
   "language": "python",
   "name": "python3"
  },
  "language_info": {
   "codemirror_mode": {
    "name": "ipython",
    "version": 3
   },
   "file_extension": ".py",
   "mimetype": "text/x-python",
   "name": "python",
   "nbconvert_exporter": "python",
   "pygments_lexer": "ipython3",
   "version": "3.9.1"
  }
 },
 "nbformat": 4,
 "nbformat_minor": 5
}
