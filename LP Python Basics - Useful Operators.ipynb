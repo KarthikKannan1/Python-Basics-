{
 "cells": [
  {
   "cell_type": "code",
   "execution_count": 1,
   "id": "348a0899",
   "metadata": {},
   "outputs": [
    {
     "data": {
      "text/plain": [
       "range(0, 11)"
      ]
     },
     "execution_count": 1,
     "metadata": {},
     "output_type": "execute_result"
    }
   ],
   "source": [
    "range(0,11)"
   ]
  },
  {
   "cell_type": "code",
   "execution_count": 2,
   "id": "5add0cf8",
   "metadata": {},
   "outputs": [
    {
     "data": {
      "text/plain": [
       "[0, 1, 2, 3, 4, 5, 6, 7, 8, 9, 10]"
      ]
     },
     "execution_count": 2,
     "metadata": {},
     "output_type": "execute_result"
    }
   ],
   "source": [
    "list(range(0,11))"
   ]
  },
  {
   "cell_type": "code",
   "execution_count": 4,
   "id": "18d2b61d",
   "metadata": {},
   "outputs": [],
   "source": [
    "#idk why its being printed in new-line\n",
    "#list(range(0,100))"
   ]
  },
  {
   "cell_type": "code",
   "execution_count": 5,
   "id": "cc749906",
   "metadata": {},
   "outputs": [
    {
     "data": {
      "text/plain": [
       "[0, 2, 4, 6, 8, 10]"
      ]
     },
     "execution_count": 5,
     "metadata": {},
     "output_type": "execute_result"
    }
   ],
   "source": [
    "#no need to use, check even-odd!\n",
    "list(range(0,11,2))"
   ]
  },
  {
   "cell_type": "code",
   "execution_count": 6,
   "id": "4d957610",
   "metadata": {},
   "outputs": [
    {
     "data": {
      "text/plain": [
       "[0, 10, 20, 30, 40, 50, 60, 70, 80, 90, 100]"
      ]
     },
     "execution_count": 6,
     "metadata": {},
     "output_type": "execute_result"
    }
   ],
   "source": [
    "list(range(0,101,10))"
   ]
  },
  {
   "cell_type": "code",
   "execution_count": 14,
   "id": "6ac13f43",
   "metadata": {},
   "outputs": [
    {
     "name": "stdout",
     "output_type": "stream",
     "text": [
      "At index 0 the letter is a \n",
      "At index 1 the letter is b \n",
      "At index 2 the letter is c \n",
      "At index 3 the letter is d \n",
      "At index 4 the letter is e \n"
     ]
    }
   ],
   "source": [
    "index_count = 0\n",
    "\n",
    "for letter in 'abcde':\n",
    "    print(\"At index %d the letter is %s \" %(index_count,letter))\n",
    "    index_count += 1"
   ]
  },
  {
   "cell_type": "code",
   "execution_count": 15,
   "id": "b297643b",
   "metadata": {},
   "outputs": [
    {
     "name": "stdout",
     "output_type": "stream",
     "text": [
      "At index 0 the letter is a\n",
      "At index 1 the letter is b\n",
      "At index 2 the letter is c\n",
      "At index 3 the letter is d\n",
      "At index 4 the letter is e\n"
     ]
    }
   ],
   "source": [
    "for i,letter in enumerate('abcde'):\n",
    "    print(\"At index %d the letter is %s\" %(i,letter))"
   ]
  },
  {
   "cell_type": "code",
   "execution_count": 16,
   "id": "2bc0f407",
   "metadata": {},
   "outputs": [
    {
     "data": {
      "text/plain": [
       "[(0, 'a'), (1, 'b'), (2, 'c'), (3, 'd'), (4, 'e')]"
      ]
     },
     "execution_count": 16,
     "metadata": {},
     "output_type": "execute_result"
    }
   ],
   "source": [
    "list(enumerate('abcde'))"
   ]
  },
  {
   "cell_type": "code",
   "execution_count": 25,
   "id": "240c57f3",
   "metadata": {},
   "outputs": [
    {
     "data": {
      "text/plain": [
       "<zip at 0x16fbc8cb4c0>"
      ]
     },
     "execution_count": 25,
     "metadata": {},
     "output_type": "execute_result"
    }
   ],
   "source": [
    "my_list_1 = [1, 2, 3, 4, 5]\n",
    "my_list_2 = ['a','b','c','d','e']\n",
    "zip(my_list_1, my_list_2)"
   ]
  },
  {
   "cell_type": "code",
   "execution_count": 21,
   "id": "af9c5e0a",
   "metadata": {},
   "outputs": [
    {
     "data": {
      "text/plain": [
       "[(1, 'a'), (2, 'b'), (3, 'c'), (4, 'd'), (5, 'e')]"
      ]
     },
     "execution_count": 21,
     "metadata": {},
     "output_type": "execute_result"
    }
   ],
   "source": [
    "list(zip(my_list_1, my_list_2))"
   ]
  },
  {
   "cell_type": "code",
   "execution_count": 28,
   "id": "451baba1",
   "metadata": {},
   "outputs": [
    {
     "name": "stdout",
     "output_type": "stream",
     "text": [
      "For this tuple, first item was 1 and second item was a\n",
      "For this tuple, first item was 2 and second item was b\n",
      "For this tuple, first item was 3 and second item was c\n",
      "For this tuple, first item was 4 and second item was d\n",
      "For this tuple, first item was 5 and second item was e\n"
     ]
    }
   ],
   "source": [
    "for i, j in zip(my_list_1, my_list_2):\n",
    "    print(\"For this tuple, first item was %d and second item was %s\" %(i, j))"
   ]
  },
  {
   "cell_type": "code",
   "execution_count": 31,
   "id": "be9b7883",
   "metadata": {},
   "outputs": [
    {
     "name": "stdout",
     "output_type": "stream",
     "text": [
      "True\n",
      "False\n"
     ]
    }
   ],
   "source": [
    "print('x' in ['x','y','z'])\n",
    "print('x' in [1,2,3])"
   ]
  },
  {
   "cell_type": "code",
   "execution_count": 33,
   "id": "36def1ea",
   "metadata": {},
   "outputs": [
    {
     "name": "stdout",
     "output_type": "stream",
     "text": [
      "147\n",
      "852\n"
     ]
    }
   ],
   "source": [
    "my_list = [147, 852, 369, 789, 321]\n",
    "print(min(my_list))\n",
    "print(max(my_list))"
   ]
  },
  {
   "cell_type": "code",
   "execution_count": 38,
   "id": "0977c564",
   "metadata": {},
   "outputs": [
    {
     "data": {
      "text/plain": [
       "[852, 789, 321, 147, 369]"
      ]
     },
     "execution_count": 38,
     "metadata": {},
     "output_type": "execute_result"
    }
   ],
   "source": [
    "#Shuffle\n",
    "from random import shuffle\n",
    "\n",
    "shuffle(my_list) #list from above\n",
    "my_list          #now shuffled\n",
    "\n",
    "#Observation: It changes order every time we execute this code."
   ]
  },
  {
   "cell_type": "code",
   "execution_count": 39,
   "id": "5a6b06cb",
   "metadata": {},
   "outputs": [
    {
     "name": "stdout",
     "output_type": "stream",
     "text": [
      "84\n",
      "92\n"
     ]
    }
   ],
   "source": [
    "#Radiant\n",
    "from random import randint\n",
    "\n",
    "print(randint(0,100))\n",
    "print(randint(0,100))"
   ]
  },
  {
   "cell_type": "code",
   "execution_count": 40,
   "id": "de04d935",
   "metadata": {},
   "outputs": [
    {
     "name": "stdout",
     "output_type": "stream",
     "text": [
      "Enter something: boku wa sugoi sova main desu\n"
     ]
    },
    {
     "data": {
      "text/plain": [
       "'boku wa sugoi sova main desu'"
      ]
     },
     "execution_count": 40,
     "metadata": {},
     "output_type": "execute_result"
    }
   ],
   "source": [
    "input(\"Enter something: \")"
   ]
  }
 ],
 "metadata": {
  "kernelspec": {
   "display_name": "Python 3",
   "language": "python",
   "name": "python3"
  },
  "language_info": {
   "codemirror_mode": {
    "name": "ipython",
    "version": 3
   },
   "file_extension": ".py",
   "mimetype": "text/x-python",
   "name": "python",
   "nbconvert_exporter": "python",
   "pygments_lexer": "ipython3",
   "version": "3.9.1"
  }
 },
 "nbformat": 4,
 "nbformat_minor": 5
}
